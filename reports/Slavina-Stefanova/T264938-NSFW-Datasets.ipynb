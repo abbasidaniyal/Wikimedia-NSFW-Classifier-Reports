{
 "cells": [
  {
   "cell_type": "markdown",
   "metadata": {},
   "source": [
    "# Not Safe for Work (NSFW) media Classifier for Wikimedia Commons\n",
    "\n",
    "***\n",
    "\n",
    "\n",
    "## Purpose\n",
    "\n",
    "This report addresses the following micro task:\n",
    "\n",
    "* T264045: Comparison of Existing NSFW Datasets\n",
    "\n",
    "***\n",
    "\n",
    "## Introduction\n",
    "\n",
    "## NSFW Datasets\n",
    "\n",
    "1. NPDI Database [[1]](https://sites.google.com/site/pornographydatabase/)\n",
    "* Description \n",
    "\n",
    "> \"The Pornography database contains nearly 80 hours of 400 pornographic and 400 non-pornographic videos. For the pornographic class, we have browsed websites which only host that kind of material (solving, in a way, the matter of purpose). The database consists of several genres of pornography and depicts actors of many ethnicities, including multi-ethnic ones. For the non-pornographic class, we have browsed general-public purpose video network and selected two samples: 200 videos chosen at random (which we called \"easy\") and 200 videos selected from textual search queries like \"beach\", \"wrestling\", \"swimming\", which we knew would be particularly challenging for the detector (called \"difficult\").\"\n",
    "* Pros\n",
    "* Cons\n",
    "2. Adult Pornography Dataset 2M [2](http://gvis.unileon.es/dataset/apd-2m/)\n",
    "\n",
    "\n",
    "## Tools & Scripts for data scraping\n",
    "\n",
    "1. Ripme [[]](https://github.com/RipMeApp/ripme)\n",
    "* Description \n",
    "\n",
    "> \"RipMe is an album ripper for various websites. It is a cross-platform tool that runs on your computer, and requires Java 8. RipMe has been tested and confirmed working on Windows, Linux and MacOS.\" \n",
    "\n",
    "Ripme supports a whole range of NSFW websites and subreddits, some of which I deeply regret clicking on. In fact, scraping NSFW data seems to be it's raison d'être. \n",
    "\n",
    "2. nsfw_data_scraper [[]](https://github.com/alex000kim/nsfw_data_scraper)\n",
    ">\"This is a set of scripts that allows for an automatic collection of tens of thousands of images for the following (loosely defined) categories to be later used for training an image classifier:\n",
    ">* porn - pornography images\n",
    ">* hentai - hentai images, but also includes pornographic drawings\n",
    ">* sexy - sexually explicit images, but not pornography. Think nude photos, playboy, bikini, etc.\n",
    ">* neutral - safe for work neutral images of everyday things and people\n",
    ">* drawings - safe for work drawings (including anime)\"\n",
    "\n",
    "3. NSFW data source URLs [[]](https://github.com/EBazarov/nsfw_data_source_urls)\n",
    "\n",
    "> \"Repository contains lists of URLs that will help you download NSFW images, this set can be used in building big enough dataset to train robust NSFW classification model. After downloading and cleaning it's possible to have ~ 500GB or in other words ~ 1 300 000 of NSFW images\"\n",
    "\n",
    "## Libraries for data augmentation\n",
    "\n",
    "1. Augmentor [[]](https://github.com/mdbloice/Augmentor)\n",
    "\n",
    "> \"Augmentor is an image augmentation library in Python for machine learning. It aims to be a standalone library that is platform and framework independent, which is more convenient, allows for finer grained control over augmentation, and implements the most real-world relevant augmentation techniques. It employs a stochastic approach using building blocks that allow for operations to be pieced together in a pipeline.\""
   ]
  },
  {
   "cell_type": "code",
   "execution_count": null,
   "metadata": {},
   "outputs": [],
   "source": []
  },
  {
   "cell_type": "code",
   "execution_count": null,
   "metadata": {},
   "outputs": [],
   "source": []
  }
 ],
 "metadata": {
  "kernelspec": {
   "display_name": "Python 3",
   "language": "python",
   "name": "python3"
  },
  "language_info": {
   "codemirror_mode": {
    "name": "ipython",
    "version": 3
   },
   "file_extension": ".py",
   "mimetype": "text/x-python",
   "name": "python",
   "nbconvert_exporter": "python",
   "pygments_lexer": "ipython3",
   "version": "3.7.6"
  }
 },
 "nbformat": 4,
 "nbformat_minor": 4
}
